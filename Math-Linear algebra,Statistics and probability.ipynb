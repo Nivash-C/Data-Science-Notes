{
 "cells": [
  {
   "cell_type": "markdown",
   "id": "2dd54c0d",
   "metadata": {},
   "source": [
    "# Linear ALgebra"
   ]
  },
  {
   "cell_type": "code",
   "execution_count": 1,
   "id": "ffa00b36",
   "metadata": {},
   "outputs": [],
   "source": [
    "import numpy as np\n",
    "import pandas as pd\n",
    "from numpy import linalg as la"
   ]
  },
  {
   "cell_type": "code",
   "execution_count": 2,
   "id": "b60594ed",
   "metadata": {},
   "outputs": [
    {
     "name": "stdout",
     "output_type": "stream",
     "text": [
      "[[ 1  2  3]\n",
      " [ 4  5  6]\n",
      " [12 13 14]]\n"
     ]
    }
   ],
   "source": [
    "A=np.array([[1,2,3],[4,5,6],[12,13,14]])\n",
    "print(A)"
   ]
  },
  {
   "cell_type": "markdown",
   "id": "0964e606",
   "metadata": {},
   "source": [
    "Rank"
   ]
  },
  {
   "cell_type": "code",
   "execution_count": 3,
   "id": "fd85ba40",
   "metadata": {},
   "outputs": [
    {
     "name": "stdout",
     "output_type": "stream",
     "text": [
      "2\n"
     ]
    }
   ],
   "source": [
    "print(la.matrix_rank(A))"
   ]
  },
  {
   "cell_type": "markdown",
   "id": "59e2f05a",
   "metadata": {},
   "source": [
    "Transpose"
   ]
  },
  {
   "cell_type": "code",
   "execution_count": 4,
   "id": "02241c04",
   "metadata": {},
   "outputs": [
    {
     "name": "stdout",
     "output_type": "stream",
     "text": [
      "[[ 1  4 12]\n",
      " [ 2  5 13]\n",
      " [ 3  6 14]]\n"
     ]
    }
   ],
   "source": [
    "print(A.T)"
   ]
  },
  {
   "cell_type": "markdown",
   "id": "b4642588",
   "metadata": {},
   "source": [
    "Determinant"
   ]
  },
  {
   "cell_type": "code",
   "execution_count": 5,
   "id": "f434c6ad",
   "metadata": {},
   "outputs": [
    {
     "name": "stdout",
     "output_type": "stream",
     "text": [
      "-4.440892098500635e-15\n"
     ]
    }
   ],
   "source": [
    "print(la.det(A))"
   ]
  },
  {
   "cell_type": "markdown",
   "id": "c1560359",
   "metadata": {},
   "source": [
    "To add the diagonal values"
   ]
  },
  {
   "cell_type": "code",
   "execution_count": 6,
   "id": "1f2257b3",
   "metadata": {},
   "outputs": [
    {
     "name": "stdout",
     "output_type": "stream",
     "text": [
      "20\n"
     ]
    }
   ],
   "source": [
    "print(np.trace(A))"
   ]
  },
  {
   "cell_type": "markdown",
   "id": "0900c245",
   "metadata": {},
   "source": [
    "Inverse"
   ]
  },
  {
   "cell_type": "code",
   "execution_count": 7,
   "id": "87261c31",
   "metadata": {},
   "outputs": [
    {
     "name": "stdout",
     "output_type": "stream",
     "text": [
      "[[ 1.80143985e+15 -2.47697980e+15  6.75539944e+14]\n",
      " [-3.60287970e+15  4.95395959e+15 -1.35107989e+15]\n",
      " [ 1.80143985e+15 -2.47697980e+15  6.75539944e+14]]\n"
     ]
    }
   ],
   "source": [
    "print(la.inv(A))"
   ]
  },
  {
   "cell_type": "markdown",
   "id": "71bc2738",
   "metadata": {},
   "source": [
    "To get the diagonal values"
   ]
  },
  {
   "cell_type": "code",
   "execution_count": 8,
   "id": "073bf56e",
   "metadata": {},
   "outputs": [
    {
     "name": "stdout",
     "output_type": "stream",
     "text": [
      "[ 1  5 14]\n"
     ]
    }
   ],
   "source": [
    "print(np.diag(A))"
   ]
  },
  {
   "cell_type": "markdown",
   "id": "f4cea24e",
   "metadata": {},
   "source": [
    "Root and Matrix"
   ]
  },
  {
   "cell_type": "code",
   "execution_count": 9,
   "id": "3ddc2d90",
   "metadata": {},
   "outputs": [
    {
     "name": "stdout",
     "output_type": "stream",
     "text": [
      "(array([ 2.15325626e+01, -1.53256259e+00, -6.73349612e-18]), array([[ 0.16958377,  0.63998297,  0.40824829],\n",
      "       [ 0.37220459,  0.26915899, -0.81649658],\n",
      "       [ 0.91252676, -0.71970497,  0.40824829]]))\n"
     ]
    }
   ],
   "source": [
    "print(la.eig(A))"
   ]
  },
  {
   "cell_type": "code",
   "execution_count": 10,
   "id": "0dd6f7be",
   "metadata": {
    "scrolled": true
   },
   "outputs": [
    {
     "name": "stdout",
     "output_type": "stream",
     "text": [
      "Root [ 2.15325626e+01 -1.53256259e+00 -6.73349612e-18]\n",
      "Matrix [[ 0.16958377  0.63998297  0.40824829]\n",
      " [ 0.37220459  0.26915899 -0.81649658]\n",
      " [ 0.91252676 -0.71970497  0.40824829]]\n"
     ]
    }
   ],
   "source": [
    "x,y=la.eig(A)\n",
    "print(\"Root\",x)\n",
    "print(\"Matrix\",y)"
   ]
  },
  {
   "cell_type": "markdown",
   "id": "0cdb6637",
   "metadata": {},
   "source": [
    "EigenValues"
   ]
  },
  {
   "cell_type": "code",
   "execution_count": 11,
   "id": "71c4ae4a",
   "metadata": {},
   "outputs": [
    {
     "name": "stdout",
     "output_type": "stream",
     "text": [
      "[ 2.15325626e+01 -1.53256259e+00 -6.73349612e-18]\n"
     ]
    }
   ],
   "source": [
    "print(la.eigvals(A))"
   ]
  },
  {
   "cell_type": "markdown",
   "id": "b7f5a227",
   "metadata": {},
   "source": [
    "Power of the matrix"
   ]
  },
  {
   "cell_type": "code",
   "execution_count": 12,
   "id": "5ee7cdb6",
   "metadata": {},
   "outputs": [
    {
     "name": "stdout",
     "output_type": "stream",
     "text": [
      "[[ 45  51  57]\n",
      " [ 96 111 126]\n",
      " [232 271 310]]\n"
     ]
    }
   ],
   "source": [
    "print(la.matrix_power(A,2))"
   ]
  },
  {
   "cell_type": "markdown",
   "id": "f704eff2",
   "metadata": {},
   "source": [
    "# STATISTICS\n"
   ]
  },
  {
   "cell_type": "code",
   "execution_count": 13,
   "id": "db7d3be5",
   "metadata": {},
   "outputs": [
    {
     "name": "stdout",
     "output_type": "stream",
     "text": [
      "{'Name': 0         Honda\n",
      "1        Toyoto\n",
      "2          Benz\n",
      "3          Audi\n",
      "4    Volkswagen\n",
      "dtype: object, 'Age': 0    20\n",
      "1    12\n",
      "2    31\n",
      "3     8\n",
      "4    17\n",
      "dtype: int64, 'Kms': 0     2000\n",
      "1    10000\n",
      "2      500\n",
      "3     1800\n",
      "4     5000\n",
      "dtype: int64}\n"
     ]
    }
   ],
   "source": [
    "b={\n",
    "    \"Name\":pd.Series(['Honda','Toyoto','Benz','Audi','Volkswagen']),\n",
    "    \"Age\":pd.Series([20,12,31,8,17]),\n",
    "    \"Kms\":pd.Series([2000,10000,500,1800,5000]),\n",
    "    \n",
    "}\n",
    "print(b)"
   ]
  },
  {
   "cell_type": "code",
   "execution_count": 14,
   "id": "3d8cc182",
   "metadata": {},
   "outputs": [
    {
     "data": {
      "text/html": [
       "<div>\n",
       "<style scoped>\n",
       "    .dataframe tbody tr th:only-of-type {\n",
       "        vertical-align: middle;\n",
       "    }\n",
       "\n",
       "    .dataframe tbody tr th {\n",
       "        vertical-align: top;\n",
       "    }\n",
       "\n",
       "    .dataframe thead th {\n",
       "        text-align: right;\n",
       "    }\n",
       "</style>\n",
       "<table border=\"1\" class=\"dataframe\">\n",
       "  <thead>\n",
       "    <tr style=\"text-align: right;\">\n",
       "      <th></th>\n",
       "      <th>Name</th>\n",
       "      <th>Age</th>\n",
       "      <th>Kms</th>\n",
       "    </tr>\n",
       "  </thead>\n",
       "  <tbody>\n",
       "    <tr>\n",
       "      <th>0</th>\n",
       "      <td>Honda</td>\n",
       "      <td>20</td>\n",
       "      <td>2000</td>\n",
       "    </tr>\n",
       "    <tr>\n",
       "      <th>1</th>\n",
       "      <td>Toyoto</td>\n",
       "      <td>12</td>\n",
       "      <td>10000</td>\n",
       "    </tr>\n",
       "    <tr>\n",
       "      <th>2</th>\n",
       "      <td>Benz</td>\n",
       "      <td>31</td>\n",
       "      <td>500</td>\n",
       "    </tr>\n",
       "    <tr>\n",
       "      <th>3</th>\n",
       "      <td>Audi</td>\n",
       "      <td>8</td>\n",
       "      <td>1800</td>\n",
       "    </tr>\n",
       "    <tr>\n",
       "      <th>4</th>\n",
       "      <td>Volkswagen</td>\n",
       "      <td>17</td>\n",
       "      <td>5000</td>\n",
       "    </tr>\n",
       "  </tbody>\n",
       "</table>\n",
       "</div>"
      ],
      "text/plain": [
       "         Name  Age    Kms\n",
       "0       Honda   20   2000\n",
       "1      Toyoto   12  10000\n",
       "2        Benz   31    500\n",
       "3        Audi    8   1800\n",
       "4  Volkswagen   17   5000"
      ]
     },
     "execution_count": 14,
     "metadata": {},
     "output_type": "execute_result"
    }
   ],
   "source": [
    "c=pd.DataFrame(b)\n",
    "c"
   ]
  },
  {
   "cell_type": "code",
   "execution_count": 15,
   "id": "dfddee98",
   "metadata": {},
   "outputs": [
    {
     "data": {
      "text/html": [
       "<div>\n",
       "<style scoped>\n",
       "    .dataframe tbody tr th:only-of-type {\n",
       "        vertical-align: middle;\n",
       "    }\n",
       "\n",
       "    .dataframe tbody tr th {\n",
       "        vertical-align: top;\n",
       "    }\n",
       "\n",
       "    .dataframe thead th {\n",
       "        text-align: right;\n",
       "    }\n",
       "</style>\n",
       "<table border=\"1\" class=\"dataframe\">\n",
       "  <thead>\n",
       "    <tr style=\"text-align: right;\">\n",
       "      <th></th>\n",
       "      <th>Age</th>\n",
       "      <th>Kms</th>\n",
       "    </tr>\n",
       "  </thead>\n",
       "  <tbody>\n",
       "    <tr>\n",
       "      <th>0</th>\n",
       "      <td>20</td>\n",
       "      <td>2000</td>\n",
       "    </tr>\n",
       "    <tr>\n",
       "      <th>1</th>\n",
       "      <td>12</td>\n",
       "      <td>10000</td>\n",
       "    </tr>\n",
       "    <tr>\n",
       "      <th>2</th>\n",
       "      <td>31</td>\n",
       "      <td>500</td>\n",
       "    </tr>\n",
       "    <tr>\n",
       "      <th>3</th>\n",
       "      <td>8</td>\n",
       "      <td>1800</td>\n",
       "    </tr>\n",
       "    <tr>\n",
       "      <th>4</th>\n",
       "      <td>17</td>\n",
       "      <td>5000</td>\n",
       "    </tr>\n",
       "  </tbody>\n",
       "</table>\n",
       "</div>"
      ],
      "text/plain": [
       "   Age    Kms\n",
       "0   20   2000\n",
       "1   12  10000\n",
       "2   31    500\n",
       "3    8   1800\n",
       "4   17   5000"
      ]
     },
     "execution_count": 15,
     "metadata": {},
     "output_type": "execute_result"
    }
   ],
   "source": [
    "d=c[[\"Age\",\"Kms\"]]\n",
    "d"
   ]
  },
  {
   "cell_type": "markdown",
   "id": "56532403",
   "metadata": {},
   "source": [
    "Mean,Media,Mode Values"
   ]
  },
  {
   "cell_type": "code",
   "execution_count": 16,
   "id": "dffc0d48",
   "metadata": {},
   "outputs": [
    {
     "data": {
      "text/plain": [
       "Age      17.6\n",
       "Kms    3860.0\n",
       "dtype: float64"
      ]
     },
     "execution_count": 16,
     "metadata": {},
     "output_type": "execute_result"
    }
   ],
   "source": [
    "d.mean()"
   ]
  },
  {
   "cell_type": "code",
   "execution_count": 17,
   "id": "86080e6e",
   "metadata": {},
   "outputs": [
    {
     "data": {
      "text/plain": [
       "Age      17.0\n",
       "Kms    2000.0\n",
       "dtype: float64"
      ]
     },
     "execution_count": 17,
     "metadata": {},
     "output_type": "execute_result"
    }
   ],
   "source": [
    "d.median()"
   ]
  },
  {
   "cell_type": "code",
   "execution_count": 18,
   "id": "aef5944f",
   "metadata": {},
   "outputs": [
    {
     "data": {
      "text/html": [
       "<div>\n",
       "<style scoped>\n",
       "    .dataframe tbody tr th:only-of-type {\n",
       "        vertical-align: middle;\n",
       "    }\n",
       "\n",
       "    .dataframe tbody tr th {\n",
       "        vertical-align: top;\n",
       "    }\n",
       "\n",
       "    .dataframe thead th {\n",
       "        text-align: right;\n",
       "    }\n",
       "</style>\n",
       "<table border=\"1\" class=\"dataframe\">\n",
       "  <thead>\n",
       "    <tr style=\"text-align: right;\">\n",
       "      <th></th>\n",
       "      <th>Age</th>\n",
       "      <th>Kms</th>\n",
       "    </tr>\n",
       "  </thead>\n",
       "  <tbody>\n",
       "    <tr>\n",
       "      <th>0</th>\n",
       "      <td>8</td>\n",
       "      <td>500</td>\n",
       "    </tr>\n",
       "    <tr>\n",
       "      <th>1</th>\n",
       "      <td>12</td>\n",
       "      <td>1800</td>\n",
       "    </tr>\n",
       "    <tr>\n",
       "      <th>2</th>\n",
       "      <td>17</td>\n",
       "      <td>2000</td>\n",
       "    </tr>\n",
       "    <tr>\n",
       "      <th>3</th>\n",
       "      <td>20</td>\n",
       "      <td>5000</td>\n",
       "    </tr>\n",
       "    <tr>\n",
       "      <th>4</th>\n",
       "      <td>31</td>\n",
       "      <td>10000</td>\n",
       "    </tr>\n",
       "  </tbody>\n",
       "</table>\n",
       "</div>"
      ],
      "text/plain": [
       "   Age    Kms\n",
       "0    8    500\n",
       "1   12   1800\n",
       "2   17   2000\n",
       "3   20   5000\n",
       "4   31  10000"
      ]
     },
     "execution_count": 18,
     "metadata": {},
     "output_type": "execute_result"
    }
   ],
   "source": [
    "d.mode()"
   ]
  },
  {
   "cell_type": "code",
   "execution_count": 19,
   "id": "3480539b",
   "metadata": {},
   "outputs": [
    {
     "data": {
      "text/plain": [
       "Age      8\n",
       "Kms    500\n",
       "dtype: int64"
      ]
     },
     "execution_count": 19,
     "metadata": {},
     "output_type": "execute_result"
    }
   ],
   "source": [
    "d.min()"
   ]
  },
  {
   "cell_type": "code",
   "execution_count": 20,
   "id": "acdd1af0",
   "metadata": {},
   "outputs": [
    {
     "data": {
      "text/plain": [
       "Age       31\n",
       "Kms    10000\n",
       "dtype: int64"
      ]
     },
     "execution_count": 20,
     "metadata": {},
     "output_type": "execute_result"
    }
   ],
   "source": [
    "d.max()"
   ]
  },
  {
   "cell_type": "code",
   "execution_count": 21,
   "id": "3f880687",
   "metadata": {},
   "outputs": [
    {
     "data": {
      "text/html": [
       "<div>\n",
       "<style scoped>\n",
       "    .dataframe tbody tr th:only-of-type {\n",
       "        vertical-align: middle;\n",
       "    }\n",
       "\n",
       "    .dataframe tbody tr th {\n",
       "        vertical-align: top;\n",
       "    }\n",
       "\n",
       "    .dataframe thead th {\n",
       "        text-align: right;\n",
       "    }\n",
       "</style>\n",
       "<table border=\"1\" class=\"dataframe\">\n",
       "  <thead>\n",
       "    <tr style=\"text-align: right;\">\n",
       "      <th></th>\n",
       "      <th>Age</th>\n",
       "      <th>Kms</th>\n",
       "    </tr>\n",
       "  </thead>\n",
       "  <tbody>\n",
       "    <tr>\n",
       "      <th>0</th>\n",
       "      <td>20</td>\n",
       "      <td>2000</td>\n",
       "    </tr>\n",
       "    <tr>\n",
       "      <th>1</th>\n",
       "      <td>32</td>\n",
       "      <td>12000</td>\n",
       "    </tr>\n",
       "    <tr>\n",
       "      <th>2</th>\n",
       "      <td>63</td>\n",
       "      <td>12500</td>\n",
       "    </tr>\n",
       "    <tr>\n",
       "      <th>3</th>\n",
       "      <td>71</td>\n",
       "      <td>14300</td>\n",
       "    </tr>\n",
       "    <tr>\n",
       "      <th>4</th>\n",
       "      <td>88</td>\n",
       "      <td>19300</td>\n",
       "    </tr>\n",
       "  </tbody>\n",
       "</table>\n",
       "</div>"
      ],
      "text/plain": [
       "   Age    Kms\n",
       "0   20   2000\n",
       "1   32  12000\n",
       "2   63  12500\n",
       "3   71  14300\n",
       "4   88  19300"
      ]
     },
     "execution_count": 21,
     "metadata": {},
     "output_type": "execute_result"
    }
   ],
   "source": [
    "d.cumsum()"
   ]
  },
  {
   "cell_type": "code",
   "execution_count": 22,
   "id": "04d3c52d",
   "metadata": {},
   "outputs": [
    {
     "data": {
      "text/html": [
       "<div>\n",
       "<style scoped>\n",
       "    .dataframe tbody tr th:only-of-type {\n",
       "        vertical-align: middle;\n",
       "    }\n",
       "\n",
       "    .dataframe tbody tr th {\n",
       "        vertical-align: top;\n",
       "    }\n",
       "\n",
       "    .dataframe thead th {\n",
       "        text-align: right;\n",
       "    }\n",
       "</style>\n",
       "<table border=\"1\" class=\"dataframe\">\n",
       "  <thead>\n",
       "    <tr style=\"text-align: right;\">\n",
       "      <th></th>\n",
       "      <th>Age</th>\n",
       "      <th>Kms</th>\n",
       "    </tr>\n",
       "  </thead>\n",
       "  <tbody>\n",
       "    <tr>\n",
       "      <th>count</th>\n",
       "      <td>5.000000</td>\n",
       "      <td>5.000000</td>\n",
       "    </tr>\n",
       "    <tr>\n",
       "      <th>mean</th>\n",
       "      <td>17.600000</td>\n",
       "      <td>3860.000000</td>\n",
       "    </tr>\n",
       "    <tr>\n",
       "      <th>std</th>\n",
       "      <td>8.792042</td>\n",
       "      <td>3807.623931</td>\n",
       "    </tr>\n",
       "    <tr>\n",
       "      <th>min</th>\n",
       "      <td>8.000000</td>\n",
       "      <td>500.000000</td>\n",
       "    </tr>\n",
       "    <tr>\n",
       "      <th>25%</th>\n",
       "      <td>12.000000</td>\n",
       "      <td>1800.000000</td>\n",
       "    </tr>\n",
       "    <tr>\n",
       "      <th>50%</th>\n",
       "      <td>17.000000</td>\n",
       "      <td>2000.000000</td>\n",
       "    </tr>\n",
       "    <tr>\n",
       "      <th>75%</th>\n",
       "      <td>20.000000</td>\n",
       "      <td>5000.000000</td>\n",
       "    </tr>\n",
       "    <tr>\n",
       "      <th>max</th>\n",
       "      <td>31.000000</td>\n",
       "      <td>10000.000000</td>\n",
       "    </tr>\n",
       "  </tbody>\n",
       "</table>\n",
       "</div>"
      ],
      "text/plain": [
       "             Age           Kms\n",
       "count   5.000000      5.000000\n",
       "mean   17.600000   3860.000000\n",
       "std     8.792042   3807.623931\n",
       "min     8.000000    500.000000\n",
       "25%    12.000000   1800.000000\n",
       "50%    17.000000   2000.000000\n",
       "75%    20.000000   5000.000000\n",
       "max    31.000000  10000.000000"
      ]
     },
     "execution_count": 22,
     "metadata": {},
     "output_type": "execute_result"
    }
   ],
   "source": [
    "d.describe()"
   ]
  },
  {
   "cell_type": "markdown",
   "id": "db00f4db",
   "metadata": {},
   "source": [
    "Standard deviation"
   ]
  },
  {
   "cell_type": "code",
   "execution_count": 23,
   "id": "55c60fb3",
   "metadata": {},
   "outputs": [
    {
     "data": {
      "text/plain": [
       "Age       8.792042\n",
       "Kms    3807.623931\n",
       "dtype: float64"
      ]
     },
     "execution_count": 23,
     "metadata": {},
     "output_type": "execute_result"
    }
   ],
   "source": [
    "d.std()"
   ]
  },
  {
   "cell_type": "markdown",
   "id": "a5e861f3",
   "metadata": {},
   "source": [
    "Variance"
   ]
  },
  {
   "cell_type": "code",
   "execution_count": 24,
   "id": "731afd43",
   "metadata": {},
   "outputs": [
    {
     "data": {
      "text/plain": [
       "Age          77.3\n",
       "Kms    14498000.0\n",
       "dtype: float64"
      ]
     },
     "execution_count": 24,
     "metadata": {},
     "output_type": "execute_result"
    }
   ],
   "source": [
    "d.var()"
   ]
  },
  {
   "cell_type": "code",
   "execution_count": 25,
   "id": "5bad9b17",
   "metadata": {},
   "outputs": [
    {
     "data": {
      "text/plain": [
       "Age       88\n",
       "Kms    19300\n",
       "dtype: int64"
      ]
     },
     "execution_count": 25,
     "metadata": {},
     "output_type": "execute_result"
    }
   ],
   "source": [
    "d.sum()"
   ]
  },
  {
   "cell_type": "code",
   "execution_count": 26,
   "id": "17c8c4b2",
   "metadata": {},
   "outputs": [],
   "source": [
    "from numpy import mean,std\n",
    "from numpy.random import randn,seed\n",
    "from matplotlib import pyplot"
   ]
  },
  {
   "cell_type": "code",
   "execution_count": 77,
   "id": "ef6c1c0f",
   "metadata": {
    "scrolled": true
   },
   "outputs": [
    {
     "data": {
      "text/plain": [
       "array([68.17930767, 64.65007729, 52.22092264, 33.22415458, 64.4395041 ,\n",
       "       53.97848606, 54.36825851, 61.97854263, 65.85671984, 57.70439546,\n",
       "       54.08104757, 67.38184659, 63.89053717, 65.94032301, 68.20438253,\n",
       "       48.39986094, 54.85459695, 49.47047086, 50.91476439, 45.02901021,\n",
       "       45.90087232, 55.05288919, 57.27777444, 46.70040019, 36.217861  ,\n",
       "       63.73982138, 59.43403505, 72.56196027, 50.5404478 , 74.31664398])"
      ]
     },
     "execution_count": 77,
     "metadata": {},
     "output_type": "execute_result"
    }
   ],
   "source": [
    "seed(21)\n",
    "e=7*randn(30)+45\n",
    "f=e+(8*randn(30)+11)\n",
    "e\n",
    "f"
   ]
  },
  {
   "cell_type": "markdown",
   "id": "3f0bc503",
   "metadata": {},
   "source": [
    "Importing Covariance"
   ]
  },
  {
   "cell_type": "code",
   "execution_count": 28,
   "id": "f507f6f6",
   "metadata": {},
   "outputs": [],
   "source": [
    "from numpy import cov"
   ]
  },
  {
   "cell_type": "code",
   "execution_count": 29,
   "id": "499afd50",
   "metadata": {
    "scrolled": true
   },
   "outputs": [
    {
     "name": "stdout",
     "output_type": "stream",
     "text": [
      "[[ 42.54592367  42.62805485]\n",
      " [ 42.62805485 101.08098228]]\n"
     ]
    }
   ],
   "source": [
    "print(cov(e,f))"
   ]
  },
  {
   "cell_type": "markdown",
   "id": "6457a11f",
   "metadata": {},
   "source": [
    "For Variance\n",
    "\n",
    "There are 2 variances .we have to import what we need"
   ]
  },
  {
   "cell_type": "code",
   "execution_count": 30,
   "id": "6bdbe2d1",
   "metadata": {},
   "outputs": [],
   "source": [
    "from scipy.stats import spearmanr\n"
   ]
  },
  {
   "cell_type": "code",
   "execution_count": 31,
   "id": "57a76d96",
   "metadata": {},
   "outputs": [
    {
     "name": "stdout",
     "output_type": "stream",
     "text": [
      "SpearmanrResult(correlation=0.6155728587319244, pvalue=0.00029370062646566665)\n"
     ]
    }
   ],
   "source": [
    "print(spearmanr(e,f))"
   ]
  },
  {
   "cell_type": "code",
   "execution_count": 32,
   "id": "d1e706bc",
   "metadata": {},
   "outputs": [],
   "source": [
    "from scipy.stats import pearsonr"
   ]
  },
  {
   "cell_type": "code",
   "execution_count": 33,
   "id": "bacbafb0",
   "metadata": {},
   "outputs": [
    {
     "name": "stdout",
     "output_type": "stream",
     "text": [
      "(0.65002762056968, 0.00010112941022830814)\n"
     ]
    }
   ],
   "source": [
    "print(pearsonr(e,f))"
   ]
  },
  {
   "cell_type": "code",
   "execution_count": 34,
   "id": "b80be64f",
   "metadata": {},
   "outputs": [
    {
     "data": {
      "image/png": "[encoded data removed]",
      "text/plain": [
       "<Figure size 432x288 with 1 Axes>"
      ]
     },
     "metadata": {
      "needs_background": "light"
     },
     "output_type": "display_data"
    }
   ],
   "source": [
    "pyplot.scatter(e,f)\n",
    "pyplot.show()"
   ]
  },
  {
   "cell_type": "markdown",
   "id": "cb8ecf73",
   "metadata": {},
   "source": [
    "# PROBABILITY"
   ]
  },
  {
   "cell_type": "code",
   "execution_count": 35,
   "id": "053b82b4",
   "metadata": {},
   "outputs": [],
   "source": [
    "from scipy.stats import binom\n",
    "import matplotlib.pyplot as plt"
   ]
  },
  {
   "cell_type": "code",
   "execution_count": 44,
   "id": "86d0697e",
   "metadata": {},
   "outputs": [
    {
     "data": {
      "image/png": "[encoded data removed]",
      "text/plain": [
       "<Figure size 432x288 with 1 Axes>"
      ]
     },
     "metadata": {
      "needs_background": "light"
     },
     "output_type": "display_data"
    }
   ],
   "source": [
    "n=10\n",
    "p=0.5\n",
    "values=list(range(n+1))\n",
    "dist=[binom.pmf(r,n,p) for r in values]\n",
    "plt.bar(values,dist)\n",
    "plt.show()"
   ]
  },
  {
   "cell_type": "code",
   "execution_count": 37,
   "id": "508371e5",
   "metadata": {},
   "outputs": [
    {
     "data": {
      "image/png": "[encoded data removed]",
      "text/plain": [
       "<Figure size 432x288 with 1 Axes>"
      ]
     },
     "metadata": {
      "needs_background": "light"
     },
     "output_type": "display_data"
    }
   ],
   "source": [
    "from scipy.stats import bernoulli\n",
    "bd=bernoulli(0.5)\n",
    "x=[0,1]\n",
    "plt.bar(x,bd.pmf(x))\n",
    "plt.show()"
   ]
  },
  {
   "cell_type": "code",
   "execution_count": 46,
   "id": "79457e3f",
   "metadata": {},
   "outputs": [
    {
     "data": {
      "image/png": "[encoded data removed]",
      "text/plain": [
       "<Figure size 360x360 with 1 Axes>"
      ]
     },
     "metadata": {
      "needs_background": "light"
     },
     "output_type": "display_data"
    }
   ],
   "source": [
    "from numpy import random\n",
    "import matplotlib.pyplot as plt\n",
    "import seaborn as sns\n",
    "sns.displot(random.poisson(lam=5,size=100))\n",
    "plt.show()"
   ]
  },
  {
   "cell_type": "code",
   "execution_count": 57,
   "id": "699b088d",
   "metadata": {},
   "outputs": [
    {
     "data": {
      "image/png": "[encoded data removed]",
      "text/plain": [
       "<Figure size 432x288 with 1 Axes>"
      ]
     },
     "metadata": {
      "needs_background": "light"
     },
     "output_type": "display_data"
    }
   ],
   "source": [
    "exp=np.random.exponential(1,25)\n",
    "plt.hist(exp,bins=5)\n",
    "plt.title(\"Histogram\")\n",
    "plt.show()"
   ]
  },
  {
   "cell_type": "code",
   "execution_count": 76,
   "id": "675fd3a9",
   "metadata": {
    "scrolled": false
   },
   "outputs": [
    {
     "data": {
      "image/png": "[encoded data removed]",
      "text/plain": [
       "<Figure size 432x288 with 1 Axes>"
      ]
     },
     "metadata": {
      "needs_background": "light"
     },
     "output_type": "display_data"
    }
   ],
   "source": [
    "mu,sigma=0.5,0.1\n",
    "s=np.random.normal(mu,sigma,1000)\n",
    "count,bins,ignored=plt.hist(s,125)\n",
    "\n",
    "#distribution curve:\n",
    "plt.plot(bins,1/sigma*np.sqrt(2*np.pi)*np.exp(-(bins-mu)**2/(2*sigma**2)))\n",
    "plt.show()"
   ]
  },
  {
   "cell_type": "code",
   "execution_count": null,
   "id": "fa00663f",
   "metadata": {},
   "outputs": [],
   "source": []
  }
 ],
 "metadata": {
  "kernelspec": {
   "display_name": "Python 3",
   "language": "python",
   "name": "python3"
  },
  "language_info": {
   "codemirror_mode": {
    "name": "ipython",
    "version": 3
   },
   "file_extension": ".py",
   "mimetype": "text/x-python",
   "name": "python",
   "nbconvert_exporter": "python",
   "pygments_lexer": "ipython3",
   "version": "3.8.8"
  }
 },
 "nbformat": 4,
 "nbformat_minor": 5
}
